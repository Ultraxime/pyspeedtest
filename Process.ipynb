{
 "cells": [
  {
   "cell_type": "code",
   "execution_count": 4,
   "metadata": {},
   "outputs": [],
   "source": [
    "import json\n",
    "import matplotlib.pyplot as plt\n",
    "import fastplot\n",
    "import pandas as pd\n",
    "from glob import glob\n",
    "\n",
    "OUT_FILE = 'tests_windows.csv'"
   ]
  },
  {
   "cell_type": "code",
   "execution_count": 5,
   "metadata": {},
   "outputs": [
    {
     "data": {
      "text/html": [
       "<div>\n",
       "<style scoped>\n",
       "    .dataframe tbody tr th:only-of-type {\n",
       "        vertical-align: middle;\n",
       "    }\n",
       "\n",
       "    .dataframe tbody tr th {\n",
       "        vertical-align: top;\n",
       "    }\n",
       "\n",
       "    .dataframe thead th {\n",
       "        text-align: right;\n",
       "    }\n",
       "</style>\n",
       "<table border=\"1\" class=\"dataframe\">\n",
       "  <thead>\n",
       "    <tr style=\"text-align: right;\">\n",
       "      <th></th>\n",
       "      <th>ping_ms</th>\n",
       "      <th>download_mbps</th>\n",
       "      <th>upload_mbps</th>\n",
       "      <th>organization</th>\n",
       "      <th>server_ip</th>\n",
       "      <th>sponsor</th>\n",
       "      <th>city</th>\n",
       "      <th>browser</th>\n",
       "      <th>iteration</th>\n",
       "      <th>time</th>\n",
       "      <th>platform</th>\n",
       "    </tr>\n",
       "  </thead>\n",
       "  <tbody>\n",
       "    <tr>\n",
       "      <td>0</td>\n",
       "      <td>1</td>\n",
       "      <td>939.89</td>\n",
       "      <td>825.69</td>\n",
       "      <td>Consorzio Top Ix - Torino E Piemonte Exchange ...</td>\n",
       "      <td>194.116.85.68</td>\n",
       "      <td>BBBell</td>\n",
       "      <td>Turin</td>\n",
       "      <td>chrome</td>\n",
       "      <td>0</td>\n",
       "      <td>1.570185e+09</td>\n",
       "      <td>Windows</td>\n",
       "    </tr>\n",
       "    <tr>\n",
       "      <td>1</td>\n",
       "      <td>0</td>\n",
       "      <td>941.87</td>\n",
       "      <td>871.97</td>\n",
       "      <td>Consorzio Top Ix - Torino E Piemonte Exchange ...</td>\n",
       "      <td>194.116.85.68</td>\n",
       "      <td>BBBell</td>\n",
       "      <td>Turin</td>\n",
       "      <td>chrome</td>\n",
       "      <td>1</td>\n",
       "      <td>1.570186e+09</td>\n",
       "      <td>Windows</td>\n",
       "    </tr>\n",
       "    <tr>\n",
       "      <td>2</td>\n",
       "      <td>2</td>\n",
       "      <td>915.75</td>\n",
       "      <td>940.98</td>\n",
       "      <td>Consorzio Top Ix - Torino E Piemonte Exchange ...</td>\n",
       "      <td>194.116.85.68</td>\n",
       "      <td>BBBell</td>\n",
       "      <td>Turin</td>\n",
       "      <td>chrome</td>\n",
       "      <td>2</td>\n",
       "      <td>1.570186e+09</td>\n",
       "      <td>Windows</td>\n",
       "    </tr>\n",
       "    <tr>\n",
       "      <td>3</td>\n",
       "      <td>1</td>\n",
       "      <td>937.63</td>\n",
       "      <td>830.52</td>\n",
       "      <td>Consorzio Top Ix - Torino E Piemonte Exchange ...</td>\n",
       "      <td>194.116.85.68</td>\n",
       "      <td>BBBell</td>\n",
       "      <td>Turin</td>\n",
       "      <td>firefox</td>\n",
       "      <td>0</td>\n",
       "      <td>1.570185e+09</td>\n",
       "      <td>Windows</td>\n",
       "    </tr>\n",
       "    <tr>\n",
       "      <td>4</td>\n",
       "      <td>1</td>\n",
       "      <td>928.69</td>\n",
       "      <td>831.93</td>\n",
       "      <td>Consorzio Top Ix - Torino E Piemonte Exchange ...</td>\n",
       "      <td>194.116.85.68</td>\n",
       "      <td>BBBell</td>\n",
       "      <td>Turin</td>\n",
       "      <td>firefox</td>\n",
       "      <td>1</td>\n",
       "      <td>1.570186e+09</td>\n",
       "      <td>Windows</td>\n",
       "    </tr>\n",
       "  </tbody>\n",
       "</table>\n",
       "</div>"
      ],
      "text/plain": [
       "  ping_ms  download_mbps  upload_mbps  \\\n",
       "0       1         939.89       825.69   \n",
       "1       0         941.87       871.97   \n",
       "2       2         915.75       940.98   \n",
       "3       1         937.63       830.52   \n",
       "4       1         928.69       831.93   \n",
       "\n",
       "                                        organization      server_ip sponsor  \\\n",
       "0  Consorzio Top Ix - Torino E Piemonte Exchange ...  194.116.85.68  BBBell   \n",
       "1  Consorzio Top Ix - Torino E Piemonte Exchange ...  194.116.85.68  BBBell   \n",
       "2  Consorzio Top Ix - Torino E Piemonte Exchange ...  194.116.85.68  BBBell   \n",
       "3  Consorzio Top Ix - Torino E Piemonte Exchange ...  194.116.85.68  BBBell   \n",
       "4  Consorzio Top Ix - Torino E Piemonte Exchange ...  194.116.85.68  BBBell   \n",
       "\n",
       "    city  browser  iteration          time platform  \n",
       "0  Turin   chrome          0  1.570185e+09  Windows  \n",
       "1  Turin   chrome          1  1.570186e+09  Windows  \n",
       "2  Turin   chrome          2  1.570186e+09  Windows  \n",
       "3  Turin  firefox          0  1.570185e+09  Windows  \n",
       "4  Turin  firefox          1  1.570186e+09  Windows  "
      ]
     },
     "execution_count": 5,
     "metadata": {},
     "output_type": "execute_result"
    }
   ],
   "source": [
    "data = []\n",
    "for f in glob(\"test*/*/result.json\"):\n",
    "    j = json.load(open(f,\"r\"))\n",
    "    data.append(j)\n",
    "df = pd.DataFrame(data)    \n",
    "df[\"download_mbps\"] = df[\"download_mbps\"].astype(float)\n",
    "df[\"upload_mbps\"] = df[\"upload_mbps\"].astype(float)\n",
    "df.to_csv(OUT_FILE, index=False)\n",
    "df.head()"
   ]
  },
  {
   "cell_type": "code",
   "execution_count": 3,
   "metadata": {},
   "outputs": [
    {
     "data": {
      "text/plain": [
       "<Figure size 640x480 with 0 Axes>"
      ]
     },
     "metadata": {},
     "output_type": "display_data"
    },
    {
     "data": {
      "image/png": "[encoded data removed]",
      "text/plain": [
       "<Figure size 400x225 with 1 Axes>"
      ]
     },
     "metadata": {},
     "output_type": "display_data"
    }
   ],
   "source": [
    "grouped = df.groupby(\"browser\")[\"download_mbps\"].apply(list).reset_index().values\n",
    "fastplot.plot(grouped, None, mode='CDF_multi', legend=True).show()"
   ]
  },
  {
   "cell_type": "code",
   "execution_count": 27,
   "metadata": {},
   "outputs": [
    {
     "data": {
      "text/plain": [
       "<Figure size 640x480 with 0 Axes>"
      ]
     },
     "metadata": {},
     "output_type": "display_data"
    },
    {
     "data": {
      "image/png": "[encoded data removed]",
      "text/plain": [
       "<Figure size 400x225 with 1 Axes>"
      ]
     },
     "metadata": {},
     "output_type": "display_data"
    }
   ],
   "source": [
    "grouped = df.groupby(\"browser\")[\"upload_mbps\"].apply(list).reset_index().values\n",
    "fastplot.plot(grouped, None, mode='CDF_multi', legend=True).show()"
   ]
  },
  {
   "cell_type": "code",
   "execution_count": null,
   "metadata": {},
   "outputs": [],
   "source": []
  }
 ],
 "metadata": {
  "kernelspec": {
   "display_name": "Python 3",
   "language": "python",
   "name": "python3"
  },
  "language_info": {
   "codemirror_mode": {
    "name": "ipython",
    "version": 3
   },
   "file_extension": ".py",
   "mimetype": "text/x-python",
   "name": "python",
   "nbconvert_exporter": "python",
   "pygments_lexer": "ipython3",
   "version": "3.7.4"
  }
 },
 "nbformat": 4,
 "nbformat_minor": 2
}
