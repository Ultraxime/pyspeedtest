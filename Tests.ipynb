{
 "cells": [
  {
   "cell_type": "code",
   "execution_count": 4,
   "metadata": {},
   "outputs": [],
   "source": [
    "import pyspeedtest\n",
    "import platform\n",
    "import datetime\n",
    "import json\n",
    "import time\n",
    "import os\n",
    "\n",
    "TEST_NB = 1000\n",
    "BROWSERS = [\"chrome\",\"firefox\", \"safari\"]\n",
    "BASE_DIR='test_' + datetime.datetime.now().strftime(\"%Y_%m_%d_%H_%M_%S\")\n",
    "SLEEP=180\n",
    "\n",
    "if not os.path.exists(BASE_DIR):\n",
    "    os.makedirs(BASE_DIR)\n",
    "    "
   ]
  },
  {
   "cell_type": "code",
   "execution_count": null,
   "metadata": {},
   "outputs": [
    {
     "name": "stdout",
     "output_type": "stream",
     "text": [
      "Error\n"
     ]
    }
   ],
   "source": [
    "for i in range(TEST_NB):\n",
    "    for b in BROWSERS:\n",
    "        \n",
    "        directory=BASE_DIR + '/{}_{}'.format(b,i)\n",
    "        \n",
    "        if not os.path.exists(directory):\n",
    "            os.makedirs(directory)\n",
    "\n",
    "        try:\n",
    "            result = pyspeedtest.run_speedtest(browser=b, pcap_path=\"{}/trace.pcap\".format(directory))\n",
    "            result['browser'] = b\n",
    "            result['iteration'] = i\n",
    "            result['time'] = time.time()\n",
    "            result['platform'] = platform.system()\n",
    "            json.dump(result, open(\"{}/result.json\".format(directory),\"w\"))\n",
    "        except:\n",
    "            print (\"Error\")\n",
    "            \n",
    "        time.sleep(SLEEP)\n"
   ]
  },
  {
   "cell_type": "code",
   "execution_count": null,
   "metadata": {},
   "outputs": [],
   "source": []
  }
 ],
 "metadata": {
  "kernelspec": {
   "display_name": "Python 3",
   "language": "python",
   "name": "python3"
  },
  "language_info": {
   "codemirror_mode": {
    "name": "ipython",
    "version": 3
   },
   "file_extension": ".py",
   "mimetype": "text/x-python",
   "name": "python",
   "nbconvert_exporter": "python",
   "pygments_lexer": "ipython3",
   "version": "3.7.4"
  }
 },
 "nbformat": 4,
 "nbformat_minor": 2
}
