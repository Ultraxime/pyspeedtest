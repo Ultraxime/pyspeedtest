{
 "cells": [
  {
   "cell_type": "code",
   "execution_count": 3,
   "metadata": {},
   "outputs": [],
   "source": [
    "import pyspeedtest\n",
    "import platform\n",
    "import datetime\n",
    "import json\n",
    "import time\n",
    "import os\n",
    "\n",
    "TEST_NB = 1000\n",
    "BROWSERS = [\"chrome\",\"firefox\", \"safari\"]\n",
    "#BROWSERS = [\"safari\"]\n",
    "BASE_DIR='test_' + datetime.datetime.now().strftime(\"%Y_%m_%d_%H_%M_%S\")\n",
    "SLEEP=180\n",
    "IFACE = 'en5'\n",
    "\n",
    "if not os.path.exists(BASE_DIR):\n",
    "    os.makedirs(BASE_DIR)\n",
    "    "
   ]
  },
  {
   "cell_type": "code",
   "execution_count": 4,
   "metadata": {},
   "outputs": [
    {
     "name": "stdout",
     "output_type": "stream",
     "text": [
      "Iteration: 1 Browser: chrome\n",
      "Iteration: 1 Browser: firefox\n",
      "Iteration: 1 Browser: safari\n",
      "Iteration: 2 Browser: chrome\n",
      "Iteration: 2 Browser: firefox\n",
      "Iteration: 2 Browser: safari\n",
      "Iteration: 3 Browser: chrome\n",
      "Iteration: 3 Browser: firefox\n",
      "Iteration: 3 Browser: safari\n",
      "Iteration: 4 Browser: chrome\n",
      "Iteration: 4 Browser: firefox\n",
      "Iteration: 4 Browser: safari\n",
      "Iteration: 5 Browser: chrome\n",
      "Iteration: 5 Browser: firefox\n",
      "Iteration: 5 Browser: safari\n",
      "Iteration: 6 Browser: chrome\n",
      "Iteration: 6 Browser: firefox\n",
      "Iteration: 6 Browser: safari\n",
      "Iteration: 7 Browser: chrome\n",
      "Iteration: 7 Browser: firefox\n",
      "Iteration: 7 Browser: safari\n",
      "Iteration: 8 Browser: chrome\n",
      "Iteration: 8 Browser: firefox\n",
      "Iteration: 8 Browser: safari\n",
      "Iteration: 9 Browser: chrome\n",
      "Iteration: 9 Browser: firefox\n",
      "Iteration: 9 Browser: safari\n",
      "Iteration: 10 Browser: chrome\n",
      "Iteration: 10 Browser: firefox\n",
      "Iteration: 10 Browser: safari\n",
      "Iteration: 11 Browser: chrome\n",
      "Iteration: 11 Browser: firefox\n",
      "Iteration: 11 Browser: safari\n",
      "Iteration: 12 Browser: chrome\n",
      "Iteration: 12 Browser: firefox\n",
      "Iteration: 12 Browser: safari\n",
      "Iteration: 13 Browser: chrome\n",
      "Iteration: 13 Browser: firefox\n",
      "Iteration: 13 Browser: safari\n",
      "Iteration: 14 Browser: chrome\n",
      "Iteration: 14 Browser: firefox\n",
      "Iteration: 14 Browser: safari\n",
      "Iteration: 15 Browser: chrome\n",
      "Iteration: 15 Browser: firefox\n",
      "Iteration: 15 Browser: safari\n",
      "Iteration: 16 Browser: chrome\n",
      "Iteration: 16 Browser: firefox\n",
      "Iteration: 16 Browser: safari\n",
      "Iteration: 17 Browser: chrome\n",
      "Iteration: 17 Browser: firefox\n",
      "Iteration: 17 Browser: safari\n",
      "Iteration: 18 Browser: chrome\n",
      "Iteration: 18 Browser: firefox\n",
      "Iteration: 18 Browser: safari\n",
      "Iteration: 19 Browser: chrome\n",
      "Iteration: 19 Browser: firefox\n",
      "Iteration: 19 Browser: safari\n",
      "Iteration: 20 Browser: chrome\n",
      "Iteration: 20 Browser: firefox\n",
      "Iteration: 20 Browser: safari\n",
      "Iteration: 21 Browser: chrome\n"
     ]
    },
    {
     "ename": "KeyboardInterrupt",
     "evalue": "",
     "output_type": "error",
     "traceback": [
      "\u001b[0;31m---------------------------------------------------------------------------\u001b[0m",
      "\u001b[0;31mKeyboardInterrupt\u001b[0m                         Traceback (most recent call last)",
      "\u001b[0;32m<ipython-input-4-d4e319494013>\u001b[0m in \u001b[0;36m<module>\u001b[0;34m\u001b[0m\n\u001b[1;32m     20\u001b[0m             \u001b[0mprint\u001b[0m \u001b[0;34m(\u001b[0m\u001b[0;34m\"Error\"\u001b[0m\u001b[0;34m)\u001b[0m\u001b[0;34m\u001b[0m\u001b[0;34m\u001b[0m\u001b[0m\n\u001b[1;32m     21\u001b[0m \u001b[0;34m\u001b[0m\u001b[0m\n\u001b[0;32m---> 22\u001b[0;31m         \u001b[0mtime\u001b[0m\u001b[0;34m.\u001b[0m\u001b[0msleep\u001b[0m\u001b[0;34m(\u001b[0m\u001b[0mSLEEP\u001b[0m\u001b[0;34m)\u001b[0m\u001b[0;34m\u001b[0m\u001b[0;34m\u001b[0m\u001b[0m\n\u001b[0m",
      "\u001b[0;31mKeyboardInterrupt\u001b[0m: "
     ]
    }
   ],
   "source": [
    "for i in range(TEST_NB):\n",
    "    for b in BROWSERS:\n",
    "        \n",
    "        print(\"Iteration:\", i+1, \"Browser:\", b )\n",
    "        \n",
    "        directory=BASE_DIR + '/{}_{}'.format(b,i)\n",
    "        \n",
    "        if not os.path.exists(directory):\n",
    "            os.makedirs(directory)\n",
    "\n",
    "        try:\n",
    "            result = pyspeedtest.run_speedtest(browser=b, pcap_path=\"{}/trace.pcap\".format(directory),\n",
    "                                               pcap_iface=IFACE)\n",
    "            result['browser'] = b\n",
    "            result['iteration'] = i\n",
    "            result['time'] = time.time()\n",
    "            result['platform'] = platform.system()\n",
    "            json.dump(result, open(\"{}/result.json\".format(directory),\"w\"))\n",
    "        except:\n",
    "            print (\"Error\")\n",
    "            \n",
    "        time.sleep(SLEEP)\n"
   ]
  },
  {
   "cell_type": "code",
   "execution_count": null,
   "metadata": {},
   "outputs": [],
   "source": []
  }
 ],
 "metadata": {
  "kernelspec": {
   "display_name": "Python 3",
   "language": "python",
   "name": "python3"
  },
  "language_info": {
   "codemirror_mode": {
    "name": "ipython",
    "version": 3
   },
   "file_extension": ".py",
   "mimetype": "text/x-python",
   "name": "python",
   "nbconvert_exporter": "python",
   "pygments_lexer": "ipython3",
   "version": "3.7.4"
  }
 },
 "nbformat": 4,
 "nbformat_minor": 2
}
