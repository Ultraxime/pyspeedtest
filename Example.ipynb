{
 "cells": [
  {
   "cell_type": "code",
   "execution_count": 1,
   "metadata": {},
   "outputs": [],
   "source": [
    "import pyspeedtest"
   ]
  },
  {
   "cell_type": "code",
   "execution_count": 3,
   "metadata": {},
   "outputs": [
    {
     "name": "stdout",
     "output_type": "stream",
     "text": [
      "{'server_ip': '194.116.85.68', 'upload_mbps': '811.34', 'organization': 'Consorzio Top Ix - Torino E Piemonte Exchange Poin', 'download_mbps': '386.80', 'ping_ms': '1'}\n"
     ]
    }
   ],
   "source": [
    "results_chrome  = pyspeedtest.run_speedtest(browser=\"chrome\", pcap_path=\"trace.pcap\")\n",
    "print (results_chrome)"
   ]
  }
 ],
 "metadata": {
  "kernelspec": {
   "display_name": "Python 3",
   "language": "python",
   "name": "python3"
  },
  "language_info": {
   "codemirror_mode": {
    "name": "ipython",
    "version": 3
   },
   "file_extension": ".py",
   "mimetype": "text/x-python",
   "name": "python",
   "nbconvert_exporter": "python",
   "pygments_lexer": "ipython3",
   "version": "3.5.2"
  }
 },
 "nbformat": 4,
 "nbformat_minor": 2
}
